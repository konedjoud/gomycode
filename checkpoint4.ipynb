{
  "metadata": {
    "language_info": {
      "codemirror_mode": {
        "name": "python",
        "version": 3
      },
      "file_extension": ".py",
      "mimetype": "text/x-python",
      "name": "python",
      "nbconvert_exporter": "python",
      "pygments_lexer": "ipython3",
      "version": "3.8"
    },
    "kernelspec": {
      "name": "python",
      "display_name": "Pyolite",
      "language": "python"
    }
  },
  "nbformat_minor": 4,
  "nbformat": 4,
  "cells": [
    {
      "cell_type": "code",
      "source": "EXO 1 \n\ndef maxval(a,b): \n    if a>b:\n        return a\n    return b\ndef maxval2(a,b,c):\n    return maxval(a,maxval(b,c)) \nprint(maxval2(1, 15, 30))",
      "metadata": {},
      "execution_count": null,
      "outputs": []
    },
    {
      "cell_type": "code",
      "source": "EXO 2\n\ndef calculus(a,b):\n    addition=(a+b)\n    soustraction=(a-b)\n    return addition, soustraction \nresult=calculus(20,10)\nprint(result)",
      "metadata": {},
      "execution_count": null,
      "outputs": []
    },
    {
      "cell_type": "code",
      "source": "Exo 3\n\ndef add(l):\n    total= 0\n    for i in l:\n        total=total+i\n    return total\ndef multiple(dl):\n    total2= 1\n    for x in dl:\n        total2=total2*x\n    return total2\ndef main (list):\n  pair = []\n  impair = []\n  a = len(list)\n  for i in range(a):\n    if i%2 == 0:\n      pair.append(list[i])\n    else:\n      impair.append(list[i])\n  print(\"addition des valeurs index pair {}: {}\".format(pair,add(pair)))\n  print(\"mutiplication des valeurs index impair {}: {}\".format(impair,multiple(impair)))\nmain([1,2,3,4,5,6,7]",
      "metadata": {},
      "execution_count": null,
      "outputs": []
    },
    {
      "cell_type": "code",
      "source": "Exo 4\n\ndef abc():\n  test1 = input (\"entrez une chaine de charecter separe par -: \")\n  test2 = test1.split(\"-\")\n  test2.sort()\n  print(\"-\".join(test2))\nabc()",
      "metadata": {},
      "execution_count": null,
      "outputs": []
    },
    {
      "cell_type": "code",
      "source": "Exo 5\n\nimport math\nd = input (\"entrez la valeur de d: \")\nD = d.split(',')\ndef calcul():\n  t = []\n  for value in D:\n    Q = round(math.sqrt(2*50*int(value)/30))\n    t.append(Q)\n  print(t)\ncalcul()",
      "metadata": {},
      "execution_count": null,
      "outputs": []
    }
  ]
}